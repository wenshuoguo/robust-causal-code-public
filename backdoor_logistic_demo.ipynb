{
 "cells": [
  {
   "cell_type": "code",
   "execution_count": 50,
   "metadata": {},
   "outputs": [
    {
     "data": {
      "text/plain": [
       "<module 'data' from '/Users/wenshuoguo/Documents/GitHub/robust-causal-code/data.py'>"
      ]
     },
     "execution_count": 50,
     "metadata": {},
     "output_type": "execute_result"
    }
   ],
   "source": [
    "import numpy as np\n",
    "import math\n",
    "from scipy.special import expit \n",
    "from sklearn.linear_model import LogisticRegression\n",
    "import enum\n",
    "from sklearn.linear_model import SGDClassifier\n",
    "from random import uniform \n",
    "import random\n",
    "import time\n",
    "\n",
    "import utils\n",
    "import data\n",
    "\n",
    "from importlib import reload\n",
    "reload(utils)\n",
    "reload(data)"
   ]
  },
  {
   "cell_type": "code",
   "execution_count": 51,
   "metadata": {},
   "outputs": [
    {
     "name": "stdout",
     "output_type": "stream",
     "text": [
      "gamma_list [0.19849236942701062, 0.19849236942701062]\n"
     ]
    }
   ],
   "source": [
    "a1_true =  np.array([1, -1])\n",
    "beta_0 = -0.5\n",
    "beta_1 = 1\n",
    "beta_2 = np.array([-1, 1])\n",
    "\n",
    "x_mean = np.array([1, 1])\n",
    "x_cov = np.array([[1, 0], [0, 1]] )\n",
    "\n",
    "mean_list = np.array([0.1,0.1])\n",
    "var_list = np.array([0.5, 0.5])\n",
    "z_list = np.array([0,1])\n",
    "\n",
    "gamma_list = utils.compute_gamma_list(x_mean, x_cov, mean_list, var_list)\n",
    "print('gamma_list', gamma_list)"
   ]
  },
  {
   "cell_type": "code",
   "execution_count": 52,
   "metadata": {},
   "outputs": [],
   "source": [
    "sampler = data.simple_logistic_sampler(x_mean, x_cov, a1_true, beta_0, beta_1, beta_2)"
   ]
  },
  {
   "cell_type": "code",
   "execution_count": 53,
   "metadata": {},
   "outputs": [
    {
     "name": "stdout",
     "output_type": "stream",
     "text": [
      "tau_hat_true 0.14688012141292456\n",
      "tau_hat_tilde 0.04476755357627595\n"
     ]
    }
   ],
   "source": [
    "#check one pair of X, tilde X.\n",
    "num_samples=1000\n",
    "Z_samples, X_samples, Y_samples = sampler.get_samples(num_samples)\n",
    "tilde_X_samples = data.generate_tilde_X_samples(X_samples, Z_samples, z_list, mean_list, var_list)\n",
    "\n",
    "#use X to compute ATE\n",
    "tau_hat_true= utils.fit_logistic(X_samples=X_samples, Z_samples=Z_samples, Y_samples=Y_samples, equal_weights=True)\n",
    "print('tau_hat_true', tau_hat_true)\n",
    "        \n",
    "#use tilde X to compute ATE\n",
    "tau_hat_tilde= utils.fit_logistic(X_samples=tilde_X_samples, Z_samples=Z_samples, Y_samples=Y_samples, equal_weights=True)\n",
    "print('tau_hat_tilde', tau_hat_tilde)"
   ]
  },
  {
   "cell_type": "code",
   "execution_count": 54,
   "metadata": {
    "scrolled": true
   },
   "outputs": [
    {
     "name": "stdout",
     "output_type": "stream",
     "text": [
      "start run:  0\n",
      "tau_hat_true 0.09066725215415801\n",
      "tau_hat_tilde 0.042783636860038714\n",
      "[-0.05084691091058379, 0.1483086016793431]\n",
      "this run took:  24.131712198257446\n",
      "start run:  1\n",
      "tau_hat_true -0.035413081051685384\n",
      "tau_hat_tilde -0.04390818778716026\n",
      "[-0.16233713197358207, 0.04450700436544694]\n",
      "this run took:  23.57298707962036\n",
      "start run:  2\n",
      "tau_hat_true 0.024330257660000586\n",
      "tau_hat_tilde -0.072813903169499\n",
      "[-0.2336056059906492, 0.03997354175545512]\n",
      "this run took:  26.639036893844604\n",
      "start run:  3\n",
      "tau_hat_true 0.2547325873875103\n",
      "tau_hat_tilde 0.2243514205028844\n",
      "[0.10923612271627584, 0.3039832637508204]\n",
      "this run took:  25.422529220581055\n",
      "start run:  4\n",
      "tau_hat_true 0.00790269630692078\n",
      "tau_hat_tilde -0.10026588502738816\n",
      "[-0.20305681242729176, 0.012351237222006976]\n",
      "this run took:  22.789254188537598\n",
      "start run:  5\n",
      "tau_hat_true 0.09655572308184437\n",
      "tau_hat_tilde -0.014694448629798249\n",
      "[-0.13578122535531284, 0.09639737204137559]\n",
      "this run took:  22.56227993965149\n",
      "start run:  6\n",
      "tau_hat_true 0.13130513960020035\n",
      "tau_hat_tilde 0.11370941014523586\n",
      "[0.014186507270280162, 0.2020541499144872]\n",
      "this run took:  25.036302089691162\n",
      "start run:  7\n",
      "tau_hat_true 0.11135249169416721\n",
      "tau_hat_tilde 0.08749623465735519\n",
      "[-0.03587001896157988, 0.20336936245907508]\n",
      "this run took:  23.93928599357605\n",
      "start run:  8\n",
      "tau_hat_true 0.23511621806809888\n",
      "tau_hat_tilde 0.18029811864066136\n",
      "[0.06383279317633207, 0.2734769149870504]\n",
      "this run took:  24.9504292011261\n",
      "start run:  9\n",
      "tau_hat_true 0.0173015597597118\n",
      "tau_hat_tilde 0.013610228306893244\n",
      "[-0.08293755100121294, 0.09871087059858887]\n",
      "this run took:  24.58953619003296\n",
      "start run:  10\n",
      "tau_hat_true -0.02164538379221435\n",
      "tau_hat_tilde -0.05351514369059339\n",
      "[-0.16307058281479858, 0.052549344140377235]\n",
      "this run took:  22.81429409980774\n",
      "start run:  11\n",
      "tau_hat_true 0.04293308130642012\n",
      "tau_hat_tilde -0.0041754549914678855\n",
      "[-0.13526109881184384, 0.09173324043851912]\n",
      "this run took:  23.529189825057983\n",
      "start run:  12\n",
      "tau_hat_true 0.06328393918003\n",
      "tau_hat_tilde -0.027438844949240624\n",
      "[-0.13638125167070997, 0.09896974799228139]\n",
      "this run took:  22.38613486289978\n",
      "start run:  13\n",
      "tau_hat_true 0.12358462035599097\n",
      "tau_hat_tilde 0.06520228861659587\n",
      "[-0.04358628979826406, 0.17669662742757306]\n",
      "this run took:  22.270738124847412\n",
      "start run:  14\n",
      "tau_hat_true -0.043059933044994274\n",
      "tau_hat_tilde -0.08829023003484246\n",
      "[-0.21285496725913336, 0.050505783465005644]\n",
      "this run took:  21.690243005752563\n",
      "start run:  15\n",
      "tau_hat_true 0.17559127882566633\n",
      "tau_hat_tilde 0.1230300586690258\n",
      "[0.03235070705073401, 0.2114950487945358]\n",
      "this run took:  22.201455116271973\n",
      "start run:  16\n",
      "tau_hat_true 0.07876917083271849\n",
      "tau_hat_tilde 0.035762811169666016\n",
      "[-0.06989177584707733, 0.1318698895196267]\n",
      "this run took:  21.94848394393921\n",
      "start run:  17\n",
      "tau_hat_true 0.003551279791399784\n",
      "tau_hat_tilde -0.08991961689517469\n",
      "[-0.268535582812585, 0.01714306395776988]\n",
      "this run took:  23.29596209526062\n",
      "start run:  18\n",
      "tau_hat_true 0.21443061113861556\n",
      "tau_hat_tilde 0.19260039274109503\n",
      "[0.09169502172966336, 0.2729634577398677]\n",
      "this run took:  24.131760120391846\n",
      "start run:  19\n",
      "tau_hat_true 0.10896536027260262\n",
      "tau_hat_tilde 0.01889371773502826\n",
      "[-0.07821437227027435, 0.10545180769708994]\n",
      "this run took:  23.398319721221924\n",
      "coverage probability, std:  0.9 0.30000000000000004\n"
     ]
    },
    {
     "data": {
      "text/plain": [
       "0.9"
      ]
     },
     "execution_count": 54,
     "metadata": {},
     "output_type": "execute_result"
    }
   ],
   "source": [
    "true_ate_list, tilde_ate_list, interval_list, interval_std_list, cover_ind= utils.oracle_run_helper(sampler=sampler,\n",
    "                                                                                       gamma_list=gamma_list, \n",
    "                                                                                       z_list=z_list, \n",
    "                                                                                       mean_list=mean_list,\n",
    "                                                                                       var_list=var_list,\n",
    "                                                                                       num_p_samples = 10000, \n",
    "                                                                                       num_runs=20,\n",
    "                                                                                       num_samples = 50)\n",
    "np.mean(cover_ind)\n"
   ]
  }
 ],
 "metadata": {
  "kernelspec": {
   "display_name": "Python 3",
   "language": "python",
   "name": "python3"
  },
  "language_info": {
   "codemirror_mode": {
    "name": "ipython",
    "version": 3
   },
   "file_extension": ".py",
   "mimetype": "text/x-python",
   "name": "python",
   "nbconvert_exporter": "python",
   "pygments_lexer": "ipython3",
   "version": "3.7.6"
  }
 },
 "nbformat": 4,
 "nbformat_minor": 4
}
